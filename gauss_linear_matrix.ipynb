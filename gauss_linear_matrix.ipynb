{
 "cells": [
  {
   "cell_type": "code",
   "execution_count": null,
   "metadata": {},
   "outputs": [],
   "source": [
    "import numpy as np\n",
    "from sympy import *\n",
    "debug = False"
   ]
  },
  {
   "cell_type": "code",
   "execution_count": 52,
   "metadata": {},
   "outputs": [],
   "source": [
    "def Gauss_pivot(A, B):\n",
    "    '''\n",
    "    Elimination de Gauss avec Pivot.\n",
    "    % Entree: A est matrice non singuliere (n,n)\n",
    "    %       B est un vecteur de n elements\n",
    "    % X est la solution du systeme  AX = B\n",
    "    % post-condition: A and b have been modified.\n",
    "    '''\n",
    "    #A = M\n",
    "    #B = b\n",
    "    n =  len(A)\n",
    "    print('n = ',n)\n",
    "    if B.size != n:\n",
    "        raise ValueError(\"Argument invalide : Incompatibilite de taille entre A  et B \", B.size, n)\n",
    "    # k represente la ligne du pivot courant . \n",
    "\n",
    "    for k in  range(n-1):\n",
    "        #On choisit le pivot maximal k\n",
    "\n",
    "        maxindex = abs(A[k:,k]).argmax() + k\n",
    "        if debug :print('maxindex = ',maxindex, k)\n",
    "        if abs(A[maxindex, k]) < 0.000000001:\n",
    "            raise ValueError(\"La matrice A est singuliere.\")\n",
    "        # On permute les lignes\n",
    "        if maxindex != k:\n",
    "            A[[k,maxindex]] = A[[maxindex, k]]\n",
    "            B[[k,maxindex]] = B[[maxindex, k]]\n",
    "            if debug :print('A permut=',A)\n",
    "        for row in  range(k+1, n):\n",
    "            multiplier = A[row][k]/A[k][k]\n",
    "            #  Le reste de la colonne est nul\n",
    "            A[row][k] = multiplier\n",
    "            for col in range(k + 1, n):\n",
    "                A[row][col] = A[row][col] - multiplier*A[k][col]\n",
    "            # La solution de l'equation est maintenant dans B\n",
    "            B[row] = B[row] - multiplier*B[k]\n",
    "        if debug :\n",
    "            print('A = ',A)\n",
    "            print ('B = ',B,'+++++\\n')\n",
    "    x = np.zeros(n)\n",
    "    k = n-1\n",
    "    x[k] = B[k]/A[k,k]\n",
    "    while k >= 0:\n",
    "        x[k] = (B[k] - np.dot(A[k,k+1:], x[k+1:]))/A[k,k]\n",
    "        k = k-1\n",
    "    return x\n",
    "\n",
    "def by_rref(A,B):  # par rref\n",
    "    Mb = B.col_insert(0,A)\n",
    "    #print(Mb)\n",
    "    return Mb.rref()\n",
    "\n",
    "def by_det(A,B):   # by determinant\n",
    "    s = []\n",
    "    det = A.det()\n",
    "    for k in range(A.shape[1]):    #columns        \n",
    "        M = Matrix(A)    \n",
    "        M[:,k] = B\n",
    "        #print(M)\n",
    "        s.append(M.det()/det)\n",
    "    return s"
   ]
  },
  {
   "cell_type": "code",
   "execution_count": 53,
   "metadata": {},
   "outputs": [
    {
     "name": "stdout",
     "output_type": "stream",
     "text": [
      "by_rref (Matrix([\n",
      "[1, 0, 0, 0,  4.0],\n",
      "[0, 1, 0, 0, -5.0],\n",
      "[0, 0, 1, 0,  4.0],\n",
      "[0, 0, 0, 1, -1.0]]), (0, 1, 2, 3))\n"
     ]
    }
   ],
   "source": [
    "A = np.array([[1.,-1.,1.,-1.],[1.,0.,0.,0.],[1.,1.,1.,1.],[1.,2.,4.,8.]])\n",
    "#print(Matrix(A))\n",
    "B =  np.array([[14.],[4.],[2.],[2.]])\n",
    "m = by_rref(Matrix(A),Matrix(B))\n",
    "print ('by_rref',m)"
   ]
  },
  {
   "cell_type": "code",
   "execution_count": 50,
   "metadata": {},
   "outputs": [
    {
     "name": "stdout",
     "output_type": "stream",
     "text": [
      "by_determinant [4.00000000000000, -5.00000000000000, 4.00000000000000, -1.00000000000000]\n"
     ]
    }
   ],
   "source": [
    "m = by_det(Matrix(A),Matrix(B))\n",
    "print ('by_determinant',m)"
   ]
  },
  {
   "cell_type": "code",
   "execution_count": 31,
   "metadata": {},
   "outputs": [
    {
     "name": "stdout",
     "output_type": "stream",
     "text": [
      "n =  4\n",
      "[ 4. -5.  4. -1.]\n"
     ]
    }
   ],
   "source": [
    "#print(Matrix(B).reshape(4,1))\n",
    "#print GENP(np.copy(A), np.copy(b))\n",
    "print (Gauss_pivot(A, B))  "
   ]
  },
  {
   "cell_type": "code",
   "execution_count": 47,
   "metadata": {},
   "outputs": [
    {
     "data": {
      "text/latex": [
       "$\\displaystyle 12.0$"
      ],
      "text/plain": [
       "12.0000000000000"
      ]
     },
     "execution_count": 47,
     "metadata": {},
     "output_type": "execute_result"
    }
   ],
   "source": [
    "A = Matrix([[1.,-1.,1.,-1.],[1.,0.,0.,0.],[1.,1.,1.,1.],[1.,2.,4.,8.]])\n",
    "B =  Matrix([[14.],[4.],[2.],[2.]])\n",
    "\n",
    "det = A.det()\n",
    "det"
   ]
  },
  {
   "cell_type": "code",
   "execution_count": 42,
   "metadata": {},
   "outputs": [
    {
     "name": "stdout",
     "output_type": "stream",
     "text": [
      "(4, 4) 16\n"
     ]
    }
   ],
   "source": [
    "print(A.shape,len(A))   # len matrice(m,n) = m*n ; len array = m"
   ]
  },
  {
   "cell_type": "code",
   "execution_count": 48,
   "metadata": {},
   "outputs": [
    {
     "data": {
      "text/plain": [
       "[4.00000000000000, -5.00000000000000, 4.00000000000000, -1.00000000000000]"
      ]
     },
     "execution_count": 48,
     "metadata": {},
     "output_type": "execute_result"
    }
   ],
   "source": [
    "def by_det(A,B):   # by determinant\n",
    "    s = []\n",
    "    det = A.det()\n",
    "    for k in range(A.shape[1]):    #columns        \n",
    "        M = Matrix(A)    \n",
    "        M[:,k] = B\n",
    "        #print(M)\n",
    "        s.append(M.det()/det)\n",
    "    return s\n",
    "\n",
    "by_det(A,B)"
   ]
  },
  {
   "cell_type": "code",
   "execution_count": 49,
   "metadata": {},
   "outputs": [
    {
     "name": "stdout",
     "output_type": "stream",
     "text": [
      "[[ 1. -1.  1. -1.]\n",
      " [ 1.  0.  0.  0.]\n",
      " [ 1.  1.  1.  1.]\n",
      " [ 1.  2.  4.  8.]] 4\n",
      "[1. 1. 1. 1.]\n",
      "0 0\n",
      "[0. 1. 2.]\n",
      "1 3\n",
      "[1. 4.]\n",
      "2 3\n",
      "[8.]\n",
      "3 3\n"
     ]
    }
   ],
   "source": [
    "# argmax\n",
    "A = np.array([[1.,-1.,1.,-1.],[1.,0.,0.,0.],[1.,1.,1.,1.],[1.,2.,4.,8.]])\n",
    "print(A, len(A))\n",
    "for k in range(len(A)):    # rows\n",
    "    print(A[k:,k])\n",
    "    maxindex = abs(A[k:,k]).argmax() + k #search max value in column k from row k; +k gives the correct row in array\n",
    "    print(k,maxindex)"
   ]
  },
  {
   "cell_type": "code",
   "execution_count": null,
   "metadata": {},
   "outputs": [],
   "source": []
  }
 ],
 "metadata": {
  "kernelspec": {
   "display_name": "Python 3",
   "language": "python",
   "name": "python3"
  },
  "language_info": {
   "codemirror_mode": {
    "name": "ipython",
    "version": 3
   },
   "file_extension": ".py",
   "mimetype": "text/x-python",
   "name": "python",
   "nbconvert_exporter": "python",
   "pygments_lexer": "ipython3",
   "version": "3.7.3"
  }
 },
 "nbformat": 4,
 "nbformat_minor": 2
}
